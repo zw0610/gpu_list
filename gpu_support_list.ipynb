{
 "cells": [
  {
   "cell_type": "code",
   "execution_count": 17,
   "metadata": {},
   "outputs": [],
   "source": [
    "from wikitables import import_tables"
   ]
  },
  {
   "cell_type": "code",
   "execution_count": 18,
   "metadata": {},
   "outputs": [],
   "source": [
    "tables = import_tables('CUDA')"
   ]
  },
  {
   "cell_type": "code",
   "execution_count": 19,
   "metadata": {},
   "outputs": [],
   "source": [
    "compute_capability_to_gpu = {str(row['Computecapability(version)']):\n",
    "                          {\n",
    "                              'GeForce': str(row['GeForce']).split(', '), \n",
    "                              'Quadro' : str(row['Quadro, NVS']).split(', '), \n",
    "                              'Tesla'  : str(row['Tesla']).split(', ')}\n",
    "                          for row in tables[0].rows}\n",
    "\n",
    "for k in compute_capability_to_gpu.keys():\n",
    "    all_val = set(sum(compute_capability_to_gpu[k].values(), []))\n",
    "    if '' in all_val:\n",
    "        all_val.remove('')\n",
    "    compute_capability_to_gpu[k]['All'] = list(all_val)"
   ]
  },
  {
   "cell_type": "markdown",
   "metadata": {},
   "source": [
    "## Manually Maintained\n",
    "At this moment, I cannot find a source describe the relation between CUDA Toolkit version and Compute Capablity version without interpretion"
   ]
  },
  {
   "cell_type": "code",
   "execution_count": 20,
   "metadata": {},
   "outputs": [
    {
     "name": "stdout",
     "output_type": "stream",
     "text": [
      "['5.0', '5.2', '5.3', '1.0', '1.1', '1.2', '1.3', '6.1', '7.5', '7.2', '3.7', '7.0', '3.5', '3.2', '6.2', '3.0', '6.0', '2.1', '2.0', '8.0?']\n"
     ]
    }
   ],
   "source": [
    "print(compute_capability_to_gpu.keys())"
   ]
  },
  {
   "cell_type": "code",
   "execution_count": 21,
   "metadata": {},
   "outputs": [],
   "source": [
    "cc_less_than = lambda l,r: float(l)<float(r)\n",
    "cc_larger_than = lambda l,r: float(l)>float(r)"
   ]
  },
  {
   "cell_type": "code",
   "execution_count": 22,
   "metadata": {},
   "outputs": [],
   "source": [
    "cuda_to_compute_capability = {}\n",
    "\n",
    "cuda_to_compute_capability['1.0'] = [cc for cc in compute_capability_to_gpu.keys() if cc in ['1.0', '1.1'] ]\n",
    "cuda_to_compute_capability['1.1'] = cuda_to_compute_capability['1.0']\n",
    "cuda_to_compute_capability['2.0'] = cuda_to_compute_capability['1.1']\n",
    "cuda_to_compute_capability['2.1'] = cuda_to_compute_capability['2.0'] + [cc for cc in compute_capability_to_gpu.keys() if cc in ['1.2', '1.3'] ]\n",
    "cuda_to_compute_capability['3.0'] = cuda_to_compute_capability['2.1'] + [cc for cc in compute_capability_to_gpu.keys() if cc in ['2.0'] ]\n",
    "cuda_to_compute_capability['3.1'] = cuda_to_compute_capability['3.0']\n",
    "cuda_to_compute_capability['3.2'] = cuda_to_compute_capability['3.1'] + [cc for cc in compute_capability_to_gpu.keys() if cc in ['2.1'] ]\n",
    "cuda_to_compute_capability['4.0'] = cuda_to_compute_capability['3.2']\n",
    "cuda_to_compute_capability['5.0'] = cuda_to_compute_capability['4.0']\n",
    "cuda_to_compute_capability['6.0'] = cuda_to_compute_capability['5.0'] + [cc for cc in compute_capability_to_gpu.keys() if cc in ['3.0', '3.2', '3.5'] ]\n",
    "cuda_to_compute_capability['6.5'] = cuda_to_compute_capability['6.0'] + [cc for cc in compute_capability_to_gpu.keys() if cc in ['3.7', '5.0', '5.2', '5.3'] ]\n",
    "cuda_to_compute_capability['7.0'] = [cc for cc in cuda_to_compute_capability['6.5'] if not cc_less_than(cc, '2.0')]\n",
    "cuda_to_compute_capability['7.5'] = cuda_to_compute_capability['7.0']\n",
    "cuda_to_compute_capability['8.5'] = cuda_to_compute_capability['7.0'] + [cc for cc in compute_capability_to_gpu.keys() if cc in ['6.0', '6.1', '6.2'] ]\n",
    "cuda_to_compute_capability['9.0'] = [cc for cc in cuda_to_compute_capability['8.5'] if not cc_less_than(cc, '3.0')] + [cc for cc in compute_capability_to_gpu.keys() if cc in ['7.0', '7.2'] ]\n",
    "cuda_to_compute_capability['9.2'] = cuda_to_compute_capability['9.0'] \n",
    "cuda_to_compute_capability['10.0'] = cuda_to_compute_capability['9.2'] + [cc for cc in compute_capability_to_gpu.keys() if cc in ['7.5'] ]\n",
    "cuda_to_compute_capability['10.1'] = cuda_to_compute_capability['10.0']"
   ]
  },
  {
   "cell_type": "code",
   "execution_count": 23,
   "metadata": {},
   "outputs": [
    {
     "data": {
      "text/plain": [
       "{'1.0',\n",
       " '1.1',\n",
       " '10.0',\n",
       " '10.1',\n",
       " '2.0',\n",
       " '2.1',\n",
       " '3.0',\n",
       " '3.1',\n",
       " '3.2',\n",
       " '4.0',\n",
       " '5.0',\n",
       " '6.0',\n",
       " '6.5',\n",
       " '7.0',\n",
       " '7.5',\n",
       " '8.5',\n",
       " '9.0',\n",
       " '9.2'}"
      ]
     },
     "execution_count": 23,
     "metadata": {},
     "output_type": "execute_result"
    }
   ],
   "source": [
    "set(cuda_to_compute_capability.keys())"
   ]
  },
  {
   "cell_type": "markdown",
   "metadata": {},
   "source": [
    "## TensorFlow"
   ]
  },
  {
   "cell_type": "code",
   "execution_count": 8,
   "metadata": {},
   "outputs": [],
   "source": [
    "# https://tensorflow.google.cn/install/source\n",
    "tf_to_cuda = {}\n",
    "tf_to_cuda['1.14.0'] = ['10.0']\n",
    "tf_to_cuda['1.13.1'] = ['10.0']\n",
    "tf_to_cuda['1.12.0'] = ['9.0']\n",
    "tf_to_cuda['1.11.0'] = ['9.0']\n",
    "tf_to_cuda['1.10.0'] = ['9.0']\n",
    "tf_to_cuda['1.9.0'] = ['9.0']\n",
    "tf_to_cuda['1.8.0'] = ['9.0']"
   ]
  },
  {
   "cell_type": "markdown",
   "metadata": {},
   "source": [
    "## PyTorch"
   ]
  },
  {
   "cell_type": "code",
   "execution_count": 9,
   "metadata": {},
   "outputs": [],
   "source": [
    "torch_to_cuda = {}\n",
    "torch_to_cuda['1.1.0'] = ['9.0', '10.0']\n",
    "torch_to_cuda['1.0.1'] = ['10.0', '9.0', '9.2', '8.0']\n",
    "torch_to_cuda['0.4.1'] = ['9.0', '9.2', '8.0', '7.5']"
   ]
  },
  {
   "cell_type": "code",
   "execution_count": 10,
   "metadata": {},
   "outputs": [],
   "source": [
    "frameworks = {'PyTorch':torch_to_cuda, 'TensorFlow':tf_to_cuda}"
   ]
  },
  {
   "cell_type": "markdown",
   "metadata": {},
   "source": [
    "## Search"
   ]
  },
  {
   "cell_type": "code",
   "execution_count": 16,
   "metadata": {},
   "outputs": [
    {
     "name": "stdout",
     "output_type": "stream",
     "text": [
      "GeForce GT 710\n",
      "GeForce GTX 760\n",
      "GeForce 940M\n",
      "GeForce GTX 1660 Ti\n",
      "Quadro K2200\n",
      "GeForce GTX 680\n",
      "GTX 1080\n",
      "Quadro M5000\n",
      "Quadro P3000(Mobile)\n",
      "Quadro K5100M\n",
      "GeForce 830M\n",
      "Tesla M60\n",
      "Quadro K600\n",
      "DDR3)\n",
      "GeForce GTX 750 SE\n",
      "Quadro K4000M\n",
      "Quadro P6000\n",
      "GeForce GTX 750\n",
      "GeForce GT 640 (GDDR5)\n",
      "GeForce GTX Titan\n",
      "Quadro K2000\n",
      "GeForce GTX 880M\n",
      "GeForce GTX 690\n",
      "Tesla K40\n",
      "Quadro M6000 24GB\n",
      "Quadro P400\n",
      "GeForce GTX 980M\n",
      "Quadro K3100M\n",
      "Quadro K1200\n",
      "Quadro K1000M\n",
      "Titan X\n",
      "Quadro P4000(Mobile)\n",
      "GeForce GTX 980\n",
      "Tesla P40\n",
      "Tesla M40\n",
      "Quadro M2000\n",
      "NVIDIA TITAN V\n",
      "Quadro K6000\n",
      "GeForce GTX 670MX\n",
      "GeForce GTX 660M\n",
      "GTX 1050 Ti\n",
      "GeForce GT 740M (64-bit\n",
      "Quadro RTX 4000\n",
      "Quadro K610M\n",
      "Quadro M1000M\n",
      "GeForce GT 640M LE\n",
      "GeForce GTX 780\n",
      "GeForce GT 645M\n",
      "Nvidia TITAN Xp\n",
      "Tesla P100\n",
      "NVS 810\n",
      "GeForce GTX Titan Black\n",
      "Quadro K620\n",
      "Quadro T1000\n",
      "Quadro M3000M\n",
      "GeForce GTX 1080 Ti\n",
      "GeForce GT 750M\n",
      "Quadro RTX 8000\n",
      "GeForce GTX 960M\n",
      "Quadro M2000M\n",
      "Quadro K1100M\n",
      "GeForce GTX 760M\n",
      "Quadro K620M\n",
      "GRID K520\n",
      "Tesla K20x\n",
      "GeForce GT 920M\n",
      " GeForce GTX 780 Ti\n",
      "Tesla M4\n",
      "Tesla M6\n",
      "Quadro K5000M\n",
      "GeForce GT 730M\n",
      "Quadro P600\n",
      "GeForce GTX 980 Ti\n",
      "Tesla T4\n",
      "Tesla K20\n",
      "Quadro GP100\n",
      "GT 1030\n",
      "GTX 1070\n",
      "GeForce GTX 950M\n",
      "Quadro K4000\n",
      "GeForce GTX 870M\n",
      "Tesla M10\n",
      "GeForce GTX 650 Ti BOOST\n",
      "GeForce 930M\n",
      "GeForce 840M\n",
      "Quadro K3000M\n",
      "GeForce GTX 770M\n",
      "Quadro P1000\n",
      "GeForce GTX 680M\n",
      "Quadro K2000M\n",
      "Quadro K2100M\n",
      "Quadro K2000D\n",
      "GeForce GTX Titan Z\n",
      "Quadro P4000\n",
      "GeForce 845M\n",
      "Quadro K5200\n",
      "GeForce GTX 950\n",
      "GTX 1650\n",
      "NVIDIA TITAN RTX\n",
      "GeForce GTX 970M\n",
      "Quadro M4000\n",
      "GeForce GTX 850M\n",
      "GeForce GT 740M\n",
      "GeForce GTX 650\n",
      "Quadro T2000\n",
      "RTX 2060\n",
      "Quadro RTX 6000\n",
      "Quadro K420\n",
      "GTX 1050\n",
      "GeForce GT 745M\n",
      "Quadro RTX 5000\n",
      "GeForce GT 650M\n",
      "GTX 1660\n",
      "Tesla V100\n",
      "GeForce GT 630 v2\n",
      "Quadro 410\n",
      "GeForce GTX 860M\n",
      "GeForce GTX 960\n",
      "Tesla K80\n",
      "GeForce GTX 660\n",
      "Quadro M5000M\n",
      "GeForce GT 730\n",
      "RTX 2070\n",
      "Quadro P2000\n",
      "GRID K340\n",
      "GeForce GTX Titan X\n",
      "GeForce GTX 780M\n",
      "Quadro M4000M\n",
      "Quadro P5000(Mobile)\n",
      "Quadro M6000\n",
      "Tesla K10\n",
      "GTX 1070 Ti\n",
      "GeForce RTX 2080 Ti\n",
      "GeForce GT 735M\n",
      "GeForce GTX 970\n",
      "GeForce GT 740\n",
      "Quadro GV100\n",
      "Quadro K4100M\n",
      "Quadro K500M\n",
      "Quadro K5000\n",
      "GeForce GTX 680MX\n",
      "Quadro K510M\n",
      "GeForce GT 720\n",
      "MX150\n",
      "GeForce GTX 770\n",
      "Tesla P6\n",
      "Tesla P4\n",
      "Quadro M5500\n",
      "GTX 1060\n",
      "Quadro P5000\n",
      "NVS 510\n",
      "GeForce GT 640M\n",
      "GeForce GTX 660 Ti\n",
      "RTX 2080\n",
      "GeForce GTX 750 Ti\n",
      "Quadro M600M\n",
      "GeForce GTX 670\n",
      "GeForce GTX 650 Ti\n",
      "GeForce GTX 765M\n",
      "Quadro K4200\n",
      "GeForce GTX 675MX\n",
      "GeForce GTX 965M\n"
     ]
    }
   ],
   "source": [
    "framework_ver = '1.1.0'\n",
    "framework_name = 'PyTorch'\n",
    "gpu_line = None\n",
    "\n",
    "framework = frameworks[framework_name]\n",
    "cuda_vers = framework[framework_ver]\n",
    "ccs = set(sum([cuda_to_compute_capability[cuda_ver] for cuda_ver in cuda_vers],[]))\n",
    "\n",
    "if gpu_line == None:\n",
    "    gpu_line = 'All'\n",
    "gpus = set(sum([compute_capability_to_gpu[cc][gpu_line] for cc in ccs],[]))\n",
    "for gpu in gpus:\n",
    "    print(gpu)"
   ]
  },
  {
   "cell_type": "code",
   "execution_count": null,
   "metadata": {},
   "outputs": [],
   "source": []
  }
 ],
 "metadata": {
  "kernelspec": {
   "display_name": "Python 2",
   "language": "python",
   "name": "python2"
  },
  "language_info": {
   "codemirror_mode": {
    "name": "ipython",
    "version": 2
   },
   "file_extension": ".py",
   "mimetype": "text/x-python",
   "name": "python",
   "nbconvert_exporter": "python",
   "pygments_lexer": "ipython2",
   "version": "2.7.16"
  }
 },
 "nbformat": 4,
 "nbformat_minor": 2
}
